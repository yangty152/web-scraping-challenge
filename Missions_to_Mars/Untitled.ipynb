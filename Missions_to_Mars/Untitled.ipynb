{
 "cells": [
  {
   "cell_type": "code",
   "execution_count": 12,
   "id": "a30d1218",
   "metadata": {},
   "outputs": [
    {
     "name": "stderr",
     "output_type": "stream",
     "text": [
      "\n",
      "\n",
      "====== WebDriver manager ======\n",
      "Current google-chrome version is 91.0.4472\n",
      "Get LATEST driver version for 91.0.4472\n",
      "Driver [C:\\Users\\tyang\\.wdm\\drivers\\chromedriver\\win32\\91.0.4472.101\\chromedriver.exe] found in cache\n"
     ]
    },
    {
     "name": "stdout",
     "output_type": "stream",
     "text": [
      "{'news_title': \"NASA-JPL Names 'Rolling Stones Rock' on Mars\", 'news_p': \"NASA's Mars InSight mission honored one of the biggest bands of all time at Pasadena concert.\", 'featured_image_url': 'https://spaceimages-mars.com/image/featured/mars3.jpg', 'html_table': '<table border=\"1\" class=\"dataframe\">\\n  <thead>\\n    <tr style=\"text-align: right;\">\\n      <th></th>\\n      <th>Diameter</th>\\n      <th>Mass</th>\\n    </tr>\\n  </thead>\\n  <tbody>\\n    <tr>\\n      <th>0</th>\\n      <td>Equatorial Diameter:</td>\\n      <td>6,792 km</td>\\n    </tr>\\n    <tr>\\n      <th>1</th>\\n      <td>Polar Diameter:</td>\\n      <td>6,752 km</td>\\n    </tr>\\n    <tr>\\n      <th>2</th>\\n      <td>Mass:</td>\\n      <td>6.39 × 10^23 kg (0.11 Earths)</td>\\n    </tr>\\n    <tr>\\n      <th>3</th>\\n      <td>Moons:</td>\\n      <td>2 ( Phobos &amp; Deimos )</td>\\n    </tr>\\n    <tr>\\n      <th>4</th>\\n      <td>Orbit Distance:</td>\\n      <td>227,943,824 km (1.38 AU)</td>\\n    </tr>\\n    <tr>\\n      <th>5</th>\\n      <td>Orbit Period:</td>\\n      <td>687 days (1.9 years)</td>\\n    </tr>\\n    <tr>\\n      <th>6</th>\\n      <td>Surface Temperature:</td>\\n      <td>-87 to -5 °C</td>\\n    </tr>\\n    <tr>\\n      <th>7</th>\\n      <td>First Record:</td>\\n      <td>2nd millennium BC</td>\\n    </tr>\\n    <tr>\\n      <th>8</th>\\n      <td>Recorded By:</td>\\n      <td>Egyptian astronomers</td>\\n    </tr>\\n  </tbody>\\n</table>'}\n",
      "[{'title': 'Cerberus Hemisphere Enhanced', 'img_url': 'https://marshemispheres.com/images/cerberus_enhanced.tif'}, {'title': 'Schiaparelli Hemisphere Enhanced', 'img_url': 'https://marshemispheres.com/images/schiaparelli_enhanced.tif'}, {'title': 'Syrtis Major Hemisphere Enhanced', 'img_url': 'https://marshemispheres.com/images/syrtis_major_enhanced.tif'}, {'title': 'Valles Marineris Hemisphere Enhanced', 'img_url': 'https://marshemispheres.com/images/valles_marineris_enhanced.tif'}]\n"
     ]
    }
   ],
   "source": [
    "#dependencies\n",
    "import os\n",
    "from bs4 import BeautifulSoup as bs\n",
    "import requests\n",
    "from splinter import Browser\n",
    "from webdriver_manager.chrome import ChromeDriverManager\n",
    "import pandas as pd\n",
    "\n",
    "results = {}\n",
    "#NASA Mars News\n",
    "executable_path = {'executable_path': ChromeDriverManager().install()}\n",
    "browser = Browser('chrome', **executable_path, headless=False)\n",
    "url = 'https://redplanetscience.com/'\n",
    "browser.visit(url)\n",
    "html = browser.html\n",
    "soup = bs(html, 'html.parser')\n",
    "news_title = soup.find('div', class_='content_title').text\n",
    "news_p = soup.find('div', class_='article_teaser_body').text\n",
    "results['news_title'] = news_title\n",
    "results['news_p'] = news_p\n",
    "\n",
    "# Scraping https://spaceimages-mars.com/\n",
    "url = 'https://spaceimages-mars.com/'\n",
    "browser.visit(url)\n",
    "html=browser.html\n",
    "soup=bs(html, 'html.parser')\n",
    "result = soup.find('a', class_='showimg fancybox-thumbs')\n",
    "href= result['href']\n",
    "featured_image_url = 'https://spaceimages-mars.com/' + href\n",
    "results['featured_image_url'] = featured_image_url\n",
    "\n",
    "## Mars Fact\n",
    "url = 'https://galaxyfacts-mars.com'\n",
    "tables = pd.read_html(url)\n",
    "df=tables[1]\n",
    "df.head()\n",
    "df = df.rename(columns = {0:'Diameter', 1:'Mass'})\n",
    "html_table = df.to_html()\n",
    "results['html_table'] = html_table\n",
    "\n",
    "# Mars Hemispheres\n",
    "url='https://marshemispheres.com/'\n",
    "browser.visit(url)\n",
    "# HTML object\n",
    "html = browser.html\n",
    "# Parse HTML with Beautiful Soup\n",
    "soup = bs(html, 'html.parser')\n",
    "images = soup.find_all('div', class_='description')\n",
    "hemisphere_image_urls=[]\n",
    "for image in images:\n",
    "    if image.h3:\n",
    "        title=image.h3.text\n",
    "        a = image.find('a')\n",
    "    if a['href']:\n",
    "        page_url=a['href']\n",
    "        image_url=url+page_url\n",
    "        browser.visit(image_url)\n",
    "        image_html=browser.html\n",
    "        soup=bs(image_html, 'html.parser')\n",
    "        image=soup.find_all('li')[1]\n",
    "        full_image=image.a['href']\n",
    "        img_url=url+full_image\n",
    "        dic = dict({\"title\":title, \"img_url\":img_url})\n",
    "        hemisphere_image_urls.append(dic)\n",
    "results[\"image_urls\"]=hemisphere_image_urls\n",
    "print(results)\n",
    "   \n",
    "    # Quit the browser\n",
    "browser.quit()"
   ]
  },
  {
   "cell_type": "code",
   "execution_count": null,
   "id": "0c712f97",
   "metadata": {},
   "outputs": [],
   "source": []
  }
 ],
 "metadata": {
  "kernelspec": {
   "display_name": "PythonData",
   "language": "python",
   "name": "pythondata"
  },
  "language_info": {
   "codemirror_mode": {
    "name": "ipython",
    "version": 3
   },
   "file_extension": ".py",
   "mimetype": "text/x-python",
   "name": "python",
   "nbconvert_exporter": "python",
   "pygments_lexer": "ipython3",
   "version": "3.8.5"
  }
 },
 "nbformat": 4,
 "nbformat_minor": 5
}
