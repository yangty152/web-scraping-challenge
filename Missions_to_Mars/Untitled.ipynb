{
 "cells": [
  {
   "cell_type": "code",
   "execution_count": 8,
   "id": "a30d1218",
   "metadata": {},
   "outputs": [
    {
     "name": "stderr",
     "output_type": "stream",
     "text": [
      "\n",
      "\n",
      "====== WebDriver manager ======\n",
      "Current google-chrome version is 91.0.4472\n",
      "Get LATEST driver version for 91.0.4472\n",
      "Driver [C:\\Users\\tyang\\.wdm\\drivers\\chromedriver\\win32\\91.0.4472.101\\chromedriver.exe] found in cache\n"
     ]
    },
    {
     "name": "stdout",
     "output_type": "stream",
     "text": [
      "{'news_title': \"The Extraordinary Sample-Gathering System of NASA's Perseverance Mars Rover\", 'news_p': 'Two astronauts collected Moon rocks on Apollo 11. It will take three robotic systems working together to gather up the first Mars rock samples for return to Earth.', 'featured_image_url': 'https://spaceimages-mars.com/image/featured/mars3.jpg', 'image_urls': [{'title': 'Cerberus Hemisphere Enhanced', 'img_url': 'https://marshemispheres.com/images/cerberus_enhanced.tif'}, {'title': 'Schiaparelli Hemisphere Enhanced', 'img_url': 'https://marshemispheres.com/images/schiaparelli_enhanced.tif'}, {'title': 'Syrtis Major Hemisphere Enhanced', 'img_url': 'https://marshemispheres.com/images/syrtis_major_enhanced.tif'}, {'title': 'Valles Marineris Hemisphere Enhanced', 'img_url': 'https://marshemispheres.com/images/valles_marineris_enhanced.tif'}]}\n"
     ]
    }
   ],
   "source": [
    "#dependencies\n",
    "import os\n",
    "from bs4 import BeautifulSoup as bs\n",
    "import requests\n",
    "from splinter import Browser\n",
    "from webdriver_manager.chrome import ChromeDriverManager\n",
    "import pandas as pd\n",
    "\n",
    "results = {}\n",
    "#NASA Mars News\n",
    "executable_path = {'executable_path': ChromeDriverManager().install()}\n",
    "browser = Browser('chrome', **executable_path, headless=False)\n",
    "url = 'https://redplanetscience.com/'\n",
    "browser.visit(url)\n",
    "html = browser.html\n",
    "soup = bs(html, 'html.parser')\n",
    "news_title = soup.find('div', class_='content_title').text\n",
    "news_p = soup.find('div', class_='article_teaser_body').text\n",
    "results['news_title'] = news_title\n",
    "results['news_p'] = news_p\n",
    "\n",
    "# Scraping https://spaceimages-mars.com/\n",
    "url = 'https://spaceimages-mars.com/'\n",
    "browser.visit(url)\n",
    "html=browser.html\n",
    "soup=bs(html, 'html.parser')\n",
    "result = soup.find('a', class_='showimg fancybox-thumbs')\n",
    "href= result['href']\n",
    "featured_image_url = 'https://spaceimages-mars.com/' + href\n",
    "results['featured_image_url'] = featured_image_url\n",
    "\n",
    "## Mars Fact\n",
    "url = 'https://galaxyfacts-mars.com'\n",
    "tables = pd.read_html(url)\n",
    "df = tables[0]\n",
    "df = df.rename(columns = {0:'Description', 1:'Mars', 2:'Earth'})\n",
    "df.set_index('Description', inplace=True)\n",
    "html_table = df.to_html()\n",
    "\n",
    "# Mars Hemispheres\n",
    "url='https://marshemispheres.com/'\n",
    "browser.visit(url)\n",
    "# HTML object\n",
    "html = browser.html\n",
    "# Parse HTML with Beautiful Soup\n",
    "soup = bs(html, 'html.parser')\n",
    "images = soup.find_all('div', class_='description')\n",
    "hemisphere_image_urls=[]\n",
    "for image in images:\n",
    "    if image.h3:\n",
    "        title=image.h3.text\n",
    "        a = image.find('a')\n",
    "    if a['href']:\n",
    "        page_url=a['href']\n",
    "        image_url=url+page_url\n",
    "        browser.visit(image_url)\n",
    "        image_html=browser.html\n",
    "        soup=bs(image_html, 'html.parser')\n",
    "        image=soup.find_all('li')[1]\n",
    "        full_image=image.a['href']\n",
    "        img_url=url+full_image\n",
    "        dic = dict({\"title\":title, \"img_url\":img_url})\n",
    "        hemisphere_image_urls.append(dic)\n",
    "results[\"image_urls\"]=hemisphere_image_urls\n",
    "print(results)\n",
    "   \n",
    "    # Quit the browser\n",
    "browser.quit()"
   ]
  },
  {
   "cell_type": "code",
   "execution_count": null,
   "id": "0c712f97",
   "metadata": {},
   "outputs": [],
   "source": []
  }
 ],
 "metadata": {
  "kernelspec": {
   "display_name": "PythonData",
   "language": "python",
   "name": "pythondata"
  },
  "language_info": {
   "codemirror_mode": {
    "name": "ipython",
    "version": 3
   },
   "file_extension": ".py",
   "mimetype": "text/x-python",
   "name": "python",
   "nbconvert_exporter": "python",
   "pygments_lexer": "ipython3",
   "version": "3.8.5"
  }
 },
 "nbformat": 4,
 "nbformat_minor": 5
}
